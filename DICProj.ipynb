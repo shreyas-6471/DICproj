{
  "nbformat": 4,
  "nbformat_minor": 0,
  "metadata": {
    "colab": {
      "provenance": []
    },
    "kernelspec": {
      "name": "python3",
      "display_name": "Python 3"
    },
    "language_info": {
      "name": "python"
    }
  },
  "cells": [
    {
      "cell_type": "code",
      "execution_count": 8,
      "metadata": {
        "id": "nMZ373O7jhR1"
      },
      "outputs": [],
      "source": [
        "import pandas as pd\n",
        "import numpy as np\n",
        "import cv2 as cv\n",
        "from google.colab import drive"
      ]
    },
    {
      "cell_type": "code",
      "source": [
        "drive.mount('/data')"
      ],
      "metadata": {
        "id": "pLVFEQlRjqVL",
        "colab": {
          "base_uri": "https://localhost:8080/"
        },
        "outputId": "e5cf2d99-8106-44c9-e1bd-41b224a5c005"
      },
      "execution_count": 9,
      "outputs": [
        {
          "output_type": "stream",
          "name": "stdout",
          "text": [
            "Drive already mounted at /data; to attempt to forcibly remount, call drive.mount(\"/data\", force_remount=True).\n"
          ]
        }
      ]
    },
    {
      "cell_type": "code",
      "source": [
        "data=pd.read_csv('/data/MyDrive/data/credit.csv')"
      ],
      "metadata": {
        "id": "62xP4XAjjtpz"
      },
      "execution_count": 10,
      "outputs": []
    },
    {
      "cell_type": "code",
      "source": [
        "print(data)"
      ],
      "metadata": {
        "colab": {
          "base_uri": "https://localhost:8080/"
        },
        "id": "4laDaeZ9kDdp",
        "outputId": "5a854b56-c615-47c5-9633-28b9a1479ed4"
      },
      "execution_count": 11,
      "outputs": [
        {
          "output_type": "stream",
          "name": "stdout",
          "text": [
            "                                     Loan ID  \\\n",
            "0       14dd8831-6af5-400b-83ec-68e61888a048   \n",
            "1       4771cc26-131a-45db-b5aa-537ea4ba5342   \n",
            "2       4eed4e6a-aa2f-4c91-8651-ce984ee8fb26   \n",
            "3       77598f7b-32e7-4e3b-a6e5-06ba0d98fe8a   \n",
            "4       d4062e70-befa-4995-8643-a0de73938182   \n",
            "...                                      ...   \n",
            "100509                                   NaN   \n",
            "100510                                   NaN   \n",
            "100511                                   NaN   \n",
            "100512                                   NaN   \n",
            "100513                                   NaN   \n",
            "\n",
            "                                 Customer ID Loan Status  Current Loan Amount  \\\n",
            "0       981165ec-3274-42f5-a3b4-d104041a9ca9  Fully Paid             445412.0   \n",
            "1       2de017a3-2e01-49cb-a581-08169e83be29  Fully Paid             262328.0   \n",
            "2       5efb2b2b-bf11-4dfd-a572-3761a2694725  Fully Paid           99999999.0   \n",
            "3       e777faab-98ae-45af-9a86-7ce5b33b1011  Fully Paid             347666.0   \n",
            "4       81536ad9-5ccf-4eb8-befb-47a4d608658e  Fully Paid             176220.0   \n",
            "...                                      ...         ...                  ...   \n",
            "100509                                   NaN         NaN                  NaN   \n",
            "100510                                   NaN         NaN                  NaN   \n",
            "100511                                   NaN         NaN                  NaN   \n",
            "100512                                   NaN         NaN                  NaN   \n",
            "100513                                   NaN         NaN                  NaN   \n",
            "\n",
            "              Term  Credit Score  Annual Income Years in current job  \\\n",
            "0       Short Term         709.0      1167493.0              8 years   \n",
            "1       Short Term           NaN            NaN            10+ years   \n",
            "2       Short Term         741.0      2231892.0              8 years   \n",
            "3        Long Term         721.0       806949.0              3 years   \n",
            "4       Short Term           NaN            NaN              5 years   \n",
            "...            ...           ...            ...                  ...   \n",
            "100509         NaN           NaN            NaN                  NaN   \n",
            "100510         NaN           NaN            NaN                  NaN   \n",
            "100511         NaN           NaN            NaN                  NaN   \n",
            "100512         NaN           NaN            NaN                  NaN   \n",
            "100513         NaN           NaN            NaN                  NaN   \n",
            "\n",
            "       Home Ownership             Purpose  Monthly Debt  \\\n",
            "0       Home Mortgage   Home Improvements       5214.74   \n",
            "1       Home Mortgage  Debt Consolidation      33295.98   \n",
            "2            Own Home  Debt Consolidation      29200.53   \n",
            "3            Own Home  Debt Consolidation       8741.90   \n",
            "4                Rent  Debt Consolidation      20639.70   \n",
            "...               ...                 ...           ...   \n",
            "100509            NaN                 NaN           NaN   \n",
            "100510            NaN                 NaN           NaN   \n",
            "100511            NaN                 NaN           NaN   \n",
            "100512            NaN                 NaN           NaN   \n",
            "100513            NaN                 NaN           NaN   \n",
            "\n",
            "        Years of Credit History  Months since last delinquent  \\\n",
            "0                          17.2                           NaN   \n",
            "1                          21.1                           8.0   \n",
            "2                          14.9                          29.0   \n",
            "3                          12.0                           NaN   \n",
            "4                           6.1                           NaN   \n",
            "...                         ...                           ...   \n",
            "100509                      NaN                           NaN   \n",
            "100510                      NaN                           NaN   \n",
            "100511                      NaN                           NaN   \n",
            "100512                      NaN                           NaN   \n",
            "100513                      NaN                           NaN   \n",
            "\n",
            "        Number of Open Accounts  Number of Credit Problems  \\\n",
            "0                           6.0                        1.0   \n",
            "1                          35.0                        0.0   \n",
            "2                          18.0                        1.0   \n",
            "3                           9.0                        0.0   \n",
            "4                          15.0                        0.0   \n",
            "...                         ...                        ...   \n",
            "100509                      NaN                        NaN   \n",
            "100510                      NaN                        NaN   \n",
            "100511                      NaN                        NaN   \n",
            "100512                      NaN                        NaN   \n",
            "100513                      NaN                        NaN   \n",
            "\n",
            "        Current Credit Balance  Maximum Open Credit  Bankruptcies  Tax Liens  \n",
            "0                     228190.0             416746.0           1.0        0.0  \n",
            "1                     229976.0             850784.0           0.0        0.0  \n",
            "2                     297996.0             750090.0           0.0        0.0  \n",
            "3                     256329.0             386958.0           0.0        0.0  \n",
            "4                     253460.0             427174.0           0.0        0.0  \n",
            "...                        ...                  ...           ...        ...  \n",
            "100509                     NaN                  NaN           NaN        NaN  \n",
            "100510                     NaN                  NaN           NaN        NaN  \n",
            "100511                     NaN                  NaN           NaN        NaN  \n",
            "100512                     NaN                  NaN           NaN        NaN  \n",
            "100513                     NaN                  NaN           NaN        NaN  \n",
            "\n",
            "[100514 rows x 19 columns]\n"
          ]
        }
      ]
    }
  ]
}